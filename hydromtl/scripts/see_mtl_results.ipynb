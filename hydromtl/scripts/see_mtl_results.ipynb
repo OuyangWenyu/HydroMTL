{
 "cells": [
  {
   "cell_type": "markdown",
   "metadata": {},
   "source": [
    "# 查看MTL的测试结果\n",
    "\n",
    "在jupyter里把跑的结果绘图表达出来，看效果比较方便。\n",
    "\n",
    "## mtl with wbloss\n",
    "\n",
    "有water balance loss的结果和没有的进行比较"
   ]
  },
  {
   "cell_type": "code",
   "execution_count": 1,
   "metadata": {},
   "outputs": [],
   "source": [
    "import os\n",
    "import sys\n",
    "from pathlib import Path\n",
    "\n",
    "sys.path.append(os.path.dirname(Path(os.path.abspath('')).parent.parent))"
   ]
  },
  {
   "cell_type": "code",
   "execution_count": 2,
   "metadata": {},
   "outputs": [
    {
     "name": "stdout",
     "output_type": "stream",
     "text": [
      "Please Check your directory:\n",
      "ROOT_DIR of the repo:  /mnt/data/owen411/code/HydroSPB\n",
      "DATA_SOURCE_DIR of the repo:  /mnt/data/owen411/data\n"
     ]
    },
    {
     "name": "stderr",
     "output_type": "stream",
     "text": [
      "/mnt/data/owen411/program/miniconda3/envs/HydroSPB22/lib/python3.10/site-packages/tqdm/auto.py:22: TqdmWarning: IProgress not found. Please update jupyter and ipywidgets. See https://ipywidgets.readthedocs.io/en/stable/user_install.html\n",
      "  from .autonotebook import tqdm as notebook_tqdm\n"
     ]
    }
   ],
   "source": [
    "import definitions\n",
    "from hydroSPB.app.streamflow_utils import (\n",
    "    get_json_file,\n",
    "    get_lastest_weight_path\n",
    ")\n",
    "from hydroSPB.hydroDL.trainer import stat_result\n",
    "from hydroSPB.app.multi_task.mtl_results_utils import predict_new_mtl_exp"
   ]
  },
  {
   "cell_type": "code",
   "execution_count": 3,
   "metadata": {},
   "outputs": [
    {
     "name": "stderr",
     "output_type": "stream",
     "text": [
      "divide by zero encountered in double_scalars\n"
     ]
    }
   ],
   "source": [
    "cfg_dir_q = os.path.join(\n",
    "        definitions.ROOT_DIR, \"hydroSPB\", \"example\", \"camels\", \"exp41501\"\n",
    "    )\n",
    "cfg_q = get_json_file(cfg_dir_q)\n",
    "inds_df_q, pred_q, obs_q = stat_result(\n",
    "        cfg_q[\"data_params\"][\"test_path\"],\n",
    "        cfg_q[\"evaluate_params\"][\"test_epoch\"],\n",
    "        fill_nan=cfg_q[\"evaluate_params\"][\"fill_nan\"],\n",
    "        unit=\"ft3/s\",\n",
    "        return_value=True,\n",
    "    )"
   ]
  },
  {
   "cell_type": "code",
   "execution_count": 8,
   "metadata": {},
   "outputs": [
    {
     "data": {
      "text/plain": [
       "0.693430384705928"
      ]
     },
     "execution_count": 8,
     "metadata": {},
     "output_type": "execute_result"
    }
   ],
   "source": [
    "import numpy as np\n",
    "np.median(inds_df_q[\"NSE\"][0])"
   ]
  },
  {
   "cell_type": "code",
   "execution_count": 9,
   "metadata": {},
   "outputs": [
    {
     "data": {
      "text/plain": [
       "-0.2535357148077777"
      ]
     },
     "execution_count": 9,
     "metadata": {},
     "output_type": "execute_result"
    }
   ],
   "source": [
    "import numpy as np\n",
    "np.median(inds_df_q[\"NSE\"][1])"
   ]
  },
  {
   "cell_type": "markdown",
   "metadata": {},
   "source": [
    "这几个结果，最后反归一化的时候有点问题了，所以要把结果重新生成下。\n",
    "\n",
    "训练的时候是对的，就是之前的代码bug了，测试的结果有点问题，现在修正后，需要重新跑一下。\n",
    "\n",
    "已经跑过这个代码了，并且也已经修复过代码了，所以这里就注释掉了："
   ]
  },
  {
   "cell_type": "code",
   "execution_count": 4,
   "metadata": {},
   "outputs": [],
   "source": [
    "# mtl_q_et_exps = [\"exp443\", \"exp444\"]\n",
    "# weight_path_dir = [\n",
    "#     os.path.join(definitions.ROOT_DIR, \"hydroSPB\", \"example\", \"camels\", exp)\n",
    "#     for exp in mtl_q_et_exps\n",
    "# ]\n",
    "# weight_path = [get_lastest_weight_path(dir_) for dir_ in weight_path_dir]\n",
    "# cache_path = os.path.join(\n",
    "#     definitions.ROOT_DIR,\n",
    "#     \"hydroSPB\",\n",
    "#     \"example\",\n",
    "#     \"camels\",\n",
    "#     \"exp441\",\n",
    "# )\n",
    "# gage_id_file = os.path.join(\n",
    "#     definitions.ROOT_DIR,\n",
    "#     \"hydroSPB\",\n",
    "#     \"example\",\n",
    "#     \"camels\",\n",
    "#     \"camels_us_mtl_2001_2021_flow_screen.csv\",\n",
    "# )\n",
    "# predict_new_mtl_exp(\n",
    "#     exp=\"exp443\",\n",
    "#     targets=[\"usgsFlow\", \"ET\"],\n",
    "#     loss_weights=[0.5, 0.5],\n",
    "#     weight_path=weight_path[0],\n",
    "#     train_period=[\"2001-10-01\", \"2006-10-01\"],\n",
    "#     test_period=[\"2006-10-01\", \"2011-10-01\"],\n",
    "#     cache_path=cache_path,\n",
    "#     gage_id_file=gage_id_file,\n",
    "#     scaler_params={\n",
    "#         \"basin_norm_cols\": [\"usgsFlow\", \"ET\"],\n",
    "#         \"gamma_norm_cols\": [\n",
    "#             \"prcp\",\n",
    "#             \"pr\",\n",
    "#             \"total_precipitation\",\n",
    "#             \"pre\",\n",
    "#             # pet may be negative, but we set negative as 0 because of gamma_norm_cols\n",
    "#             # https://earthscience.stackexchange.com/questions/12031/does-negative-reference-evapotranspiration-make-sense-using-fao-penman-monteith\n",
    "#             \"pet\",\n",
    "#             \"potential_evaporation\",\n",
    "#         ],\n",
    "#     },\n",
    "#     loss_func=\"MultiOutWaterBalanceLoss\",\n",
    "#     alpah=0.25\n",
    "# )\n",
    "# predict_new_mtl_exp(\n",
    "#     exp=\"exp444\",\n",
    "#     targets=[\"usgsFlow\", \"ET\"],\n",
    "#     loss_weights=[0.5, 0.5],\n",
    "#     weight_path=weight_path[1],\n",
    "#     train_period=[\"2001-10-01\", \"2006-10-01\"],\n",
    "#     test_period=[\"2006-10-01\", \"2011-10-01\"],\n",
    "#     cache_path=cache_path,\n",
    "#     gage_id_file=gage_id_file,\n",
    "#     scaler_params={\n",
    "#         \"basin_norm_cols\": [\"usgsFlow\", \"ET\"],\n",
    "#         \"gamma_norm_cols\": [\n",
    "#             \"prcp\",\n",
    "#             \"pr\",\n",
    "#             \"total_precipitation\",\n",
    "#             \"pre\",\n",
    "#             # pet may be negative, but we set negative as 0 because of gamma_norm_cols\n",
    "#             # https://earthscience.stackexchange.com/questions/12031/does-negative-reference-evapotranspiration-make-sense-using-fao-penman-monteith\n",
    "#             \"pet\",\n",
    "#             \"potential_evaporation\",\n",
    "#         ],\n",
    "#     },\n",
    "#     loss_func=\"MultiOutWaterBalanceLoss\",\n",
    "#     alpah=0.1\n",
    "# )"
   ]
  },
  {
   "cell_type": "code",
   "execution_count": 7,
   "metadata": {},
   "outputs": [
    {
     "name": "stderr",
     "output_type": "stream",
     "text": [
      "divide by zero encountered in double_scalars\n"
     ]
    }
   ],
   "source": [
    "cfg_dir_no_wbloss = os.path.join(\n",
    "        definitions.ROOT_DIR, \"hydroSPB\", \"example\", \"camels\", \"exp441\"\n",
    "    )\n",
    "cfg_no_wbloss = get_json_file(cfg_dir_no_wbloss)\n",
    "inds_df_no_wbloss, pred_no_wbloss, obs_no_wbloss = stat_result(\n",
    "        cfg_no_wbloss[\"data_params\"][\"test_path\"],\n",
    "        cfg_no_wbloss[\"evaluate_params\"][\"test_epoch\"],\n",
    "        fill_nan=cfg_no_wbloss[\"evaluate_params\"][\"fill_nan\"],\n",
    "        unit=[\"ft3/s\", None],\n",
    "        return_value=True,\n",
    "    )"
   ]
  },
  {
   "cell_type": "code",
   "execution_count": 19,
   "metadata": {},
   "outputs": [
    {
     "name": "stderr",
     "output_type": "stream",
     "text": [
      "divide by zero encountered in double_scalars\n"
     ]
    }
   ],
   "source": [
    "cfg_dir_wbloss_alpha25 = os.path.join(\n",
    "        definitions.ROOT_DIR, \"hydroSPB\", \"example\", \"camels\", \"exp443\"\n",
    "    )\n",
    "cfg_wbloss_alpha25 = get_json_file(cfg_dir_wbloss_alpha25)\n",
    "inds_df_wbloss_alpha25, pred_wbloss_alpha25, obs_wbloss_alpha25 = stat_result(\n",
    "        cfg_wbloss_alpha25[\"data_params\"][\"test_path\"],\n",
    "        cfg_wbloss_alpha25[\"evaluate_params\"][\"test_epoch\"],\n",
    "        fill_nan=cfg_wbloss_alpha25[\"evaluate_params\"][\"fill_nan\"],\n",
    "        unit=[\"ft3/s\", None],\n",
    "        return_value=True,\n",
    "    )"
   ]
  },
  {
   "cell_type": "code",
   "execution_count": 23,
   "metadata": {},
   "outputs": [
    {
     "name": "stderr",
     "output_type": "stream",
     "text": [
      "divide by zero encountered in double_scalars\n"
     ]
    }
   ],
   "source": [
    "cfg_dir_wbloss_alpha10 = os.path.join(\n",
    "        definitions.ROOT_DIR, \"hydroSPB\", \"example\", \"camels\", \"exp444\"\n",
    "    )\n",
    "cfg_wbloss_alpha10 = get_json_file(cfg_dir_wbloss_alpha10)\n",
    "inds_df_wbloss_alpha10, pred_wbloss_alpha10, obs_wbloss_alpha10 = stat_result(\n",
    "        cfg_wbloss_alpha10[\"data_params\"][\"test_path\"],\n",
    "        cfg_wbloss_alpha10[\"evaluate_params\"][\"test_epoch\"],\n",
    "        fill_nan=cfg_wbloss_alpha10[\"evaluate_params\"][\"fill_nan\"],\n",
    "        unit=[\"ft3/s\", None],\n",
    "        return_value=True,\n",
    "    )"
   ]
  },
  {
   "cell_type": "code",
   "execution_count": 17,
   "metadata": {},
   "outputs": [
    {
     "data": {
      "text/plain": [
       "0    [0.7586497198613131, 0.8000323939061758, 0.665...\n",
       "1    [0.957507908431722, 0.9742499962100305, 0.9634...\n",
       "Name: NSE, dtype: object"
      ]
     },
     "execution_count": 17,
     "metadata": {},
     "output_type": "execute_result"
    }
   ],
   "source": [
    "inds_df_no_wbloss[\"NSE\"]"
   ]
  },
  {
   "cell_type": "code",
   "execution_count": 20,
   "metadata": {},
   "outputs": [
    {
     "data": {
      "text/plain": [
       "0    [0.5558863734245123, 0.792581907898044, 0.6564...\n",
       "1    [0.9691200324777088, 0.9561520018054281, 0.963...\n",
       "Name: NSE, dtype: object"
      ]
     },
     "execution_count": 20,
     "metadata": {},
     "output_type": "execute_result"
    }
   ],
   "source": [
    "inds_df_wbloss_alpha25[\"NSE\"]"
   ]
  },
  {
   "cell_type": "code",
   "execution_count": 24,
   "metadata": {},
   "outputs": [
    {
     "data": {
      "text/plain": [
       "0    [0.7441676256142896, 0.8308961440107514, 0.583...\n",
       "1    [0.961792039703987, 0.9573787100249149, 0.9637...\n",
       "Name: NSE, dtype: object"
      ]
     },
     "execution_count": 24,
     "metadata": {},
     "output_type": "execute_result"
    }
   ],
   "source": [
    "inds_df_wbloss_alpha10[\"NSE\"]"
   ]
  },
  {
   "cell_type": "code",
   "execution_count": 11,
   "metadata": {},
   "outputs": [],
   "source": [
    "import numpy as np\n",
    "import pandas as pd"
   ]
  },
  {
   "cell_type": "code",
   "execution_count": 12,
   "metadata": {},
   "outputs": [
    {
     "data": {
      "text/plain": [
       "0.6653472294909959"
      ]
     },
     "execution_count": 12,
     "metadata": {},
     "output_type": "execute_result"
    }
   ],
   "source": [
    "np.median(inds_df_no_wbloss[\"NSE\"][0])"
   ]
  },
  {
   "cell_type": "code",
   "execution_count": 13,
   "metadata": {},
   "outputs": [
    {
     "data": {
      "text/plain": [
       "0.9055395525659874"
      ]
     },
     "execution_count": 13,
     "metadata": {},
     "output_type": "execute_result"
    }
   ],
   "source": [
    "np.median(inds_df_no_wbloss[\"NSE\"][1])"
   ]
  },
  {
   "cell_type": "code",
   "execution_count": 25,
   "metadata": {},
   "outputs": [
    {
     "data": {
      "text/plain": [
       "0.6356482661735989"
      ]
     },
     "execution_count": 25,
     "metadata": {},
     "output_type": "execute_result"
    }
   ],
   "source": [
    "np.median(inds_df_wbloss_alpha25[\"NSE\"][0])"
   ]
  },
  {
   "cell_type": "code",
   "execution_count": 26,
   "metadata": {},
   "outputs": [
    {
     "data": {
      "text/plain": [
       "0.8934013278677925"
      ]
     },
     "execution_count": 26,
     "metadata": {},
     "output_type": "execute_result"
    }
   ],
   "source": [
    "np.median(inds_df_wbloss_alpha25[\"NSE\"][1])"
   ]
  },
  {
   "cell_type": "code",
   "execution_count": 27,
   "metadata": {},
   "outputs": [
    {
     "data": {
      "text/plain": [
       "0.6621298859382507"
      ]
     },
     "execution_count": 27,
     "metadata": {},
     "output_type": "execute_result"
    }
   ],
   "source": [
    "np.median(inds_df_wbloss_alpha10[\"NSE\"][0])"
   ]
  },
  {
   "cell_type": "code",
   "execution_count": 29,
   "metadata": {},
   "outputs": [],
   "source": [
    "from hydroSPB.data.source_pro.data_camels_pro import CamelsPro"
   ]
  },
  {
   "cell_type": "markdown",
   "metadata": {},
   "source": [
    "这591个站点的编号："
   ]
  },
  {
   "cell_type": "code",
   "execution_count": 30,
   "metadata": {},
   "outputs": [
    {
     "data": {
      "text/plain": [
       "True"
      ]
     },
     "execution_count": 30,
     "metadata": {},
     "output_type": "execute_result"
    }
   ],
   "source": [
    "camels591_file=\"../../example/camels/camels_us_mtl_2001_2021_flow_screen.csv\"\n",
    "# if false, run camels_multioutput_preprocess.py in this directory\n",
    "os.path.isfile(camels591_file)"
   ]
  },
  {
   "cell_type": "code",
   "execution_count": 31,
   "metadata": {},
   "outputs": [
    {
     "data": {
      "text/plain": [
       "array(['01013500', '01022500', '01030500', '01031500', '01047000'],\n",
       "      dtype=object)"
      ]
     },
     "execution_count": 31,
     "metadata": {},
     "output_type": "execute_result"
    }
   ],
   "source": [
    "camels591_ids = pd.read_csv(camels591_file,dtype={'GAGE_ID':str})['GAGE_ID'].values\n",
    "camels591_ids[:5]"
   ]
  },
  {
   "cell_type": "code",
   "execution_count": 32,
   "metadata": {},
   "outputs": [],
   "source": [
    "# 选取数据的时间段\n",
    "# time_range = [\"2001-10-01\", \"2021-10-01\"]\n",
    "time_range = [\"2006-10-01\", \"2011-10-01\"]"
   ]
  },
  {
   "cell_type": "markdown",
   "metadata": {},
   "source": [
    "降雨数据是NLDAS的，所以读取NLDAS的降雨数据，用NLDAS CAMELS"
   ]
  },
  {
   "cell_type": "code",
   "execution_count": 33,
   "metadata": {},
   "outputs": [],
   "source": [
    "source_path=[\n",
    "            os.path.join(definitions.DATASET_DIR, \"camelsflowet\"),\n",
    "            os.path.join(definitions.DATASET_DIR, \"modiset4camels\"),\n",
    "            os.path.join(definitions.DATASET_DIR, \"camels\", \"camels_us\"),\n",
    "            os.path.join(definitions.DATASET_DIR, \"nldas4camels\"),\n",
    "            os.path.join(definitions.DATASET_DIR, \"smap4camels\"),\n",
    "        ]\n",
    "camels_pro = CamelsPro(source_path)"
   ]
  },
  {
   "cell_type": "code",
   "execution_count": 34,
   "metadata": {},
   "outputs": [
    {
     "name": "stderr",
     "output_type": "stream",
     "text": [
      "Read NLDAS forcing data for CAMELS-US: 100%|██████████| 591/591 [00:18<00:00, 32.08it/s]\n"
     ]
    }
   ],
   "source": [
    "# precipitation from NLDAS 2\n",
    "pet_prcps = camels_pro.read_relevant_cols(object_ids=camels591_ids, t_range_list=time_range,relevant_cols=[\"potential_evaporation\", \"total_precipitation\"], forcing_type=\"nldas\")"
   ]
  },
  {
   "cell_type": "markdown",
   "metadata": {},
   "source": [
    "pet和prcp的单位都是kg/m^2/day，用水的1000kg/m^3密度换算就是mm/day"
   ]
  },
  {
   "cell_type": "code",
   "execution_count": 35,
   "metadata": {},
   "outputs": [
    {
     "data": {
      "text/plain": [
       "(591,)"
      ]
     },
     "execution_count": 35,
     "metadata": {},
     "output_type": "execute_result"
    }
   ],
   "source": [
    "pet = pet_prcps.mean(axis=1)[:, 0]\n",
    "pet.shape"
   ]
  },
  {
   "cell_type": "code",
   "execution_count": 36,
   "metadata": {},
   "outputs": [
    {
     "data": {
      "text/plain": [
       "(591,)"
      ]
     },
     "execution_count": 36,
     "metadata": {},
     "output_type": "execute_result"
    }
   ],
   "source": [
    "p = pet_prcps.mean(axis=1)[:, 1]\n",
    "p.shape"
   ]
  },
  {
   "cell_type": "code",
   "execution_count": 37,
   "metadata": {},
   "outputs": [
    {
     "name": "stderr",
     "output_type": "stream",
     "text": [
      "Read streamflow data of CAMELS-US: 100%|██████████| 591/591 [00:07<00:00, 74.61it/s]\n",
      "Read MODIS ET data for CAMELS-US: 100%|██████████| 591/591 [00:05<00:00, 113.86it/s]\n"
     ]
    }
   ],
   "source": [
    "flow_ets = camels_pro.read_target_cols(object_ids=camels591_ids, t_range_list=time_range,target_cols=[\"usgsFlow\", \"ET\"])"
   ]
  },
  {
   "cell_type": "markdown",
   "metadata": {},
   "source": [
    "flow的单位是ft^3/s，需要用流域面积换算成mm/day；\n",
    "\n",
    "ET的单位是0.1kg/m^2/8day，读取的时候已经计算到日平均了，所以是0.1kg/m^2/day，用水的1000kg/m^3密度换算也是0.1mm/day，\n",
    "并且已经在读取的时候额外补充了乘以0.1，转变为mm/day了，因此也不必再转换了。"
   ]
  },
  {
   "cell_type": "code",
   "execution_count": 38,
   "metadata": {},
   "outputs": [],
   "source": [
    "# 转换径流单位需要有流域面积\n",
    "basin_areas = camels_pro.read_basin_area(object_ids=camels591_ids)"
   ]
  },
  {
   "cell_type": "code",
   "execution_count": 39,
   "metadata": {},
   "outputs": [
    {
     "data": {
      "text/plain": [
       "(591, 1826)"
      ]
     },
     "execution_count": 39,
     "metadata": {},
     "output_type": "execute_result"
    }
   ],
   "source": [
    "# 先转立方米每秒\n",
    "flows = flow_ets[:, :, 0] / 35.314666721489\n",
    "# 再用面积转成mm/day\n",
    "flows = flows / basin_areas * 1e3 / 1e6 * 86400\n",
    "flows.shape"
   ]
  },
  {
   "cell_type": "code",
   "execution_count": 40,
   "metadata": {},
   "outputs": [
    {
     "data": {
      "text/plain": [
       "(591,)"
      ]
     },
     "execution_count": 40,
     "metadata": {},
     "output_type": "execute_result"
    }
   ],
   "source": [
    "q = np.nanmean(flows, axis=1)\n",
    "q.shape"
   ]
  },
  {
   "cell_type": "code",
   "execution_count": 41,
   "metadata": {},
   "outputs": [],
   "source": [
    "ets = flow_ets[:, :, 1]"
   ]
  },
  {
   "cell_type": "code",
   "execution_count": 42,
   "metadata": {},
   "outputs": [
    {
     "data": {
      "text/plain": [
       "(591,)"
      ]
     },
     "execution_count": 42,
     "metadata": {},
     "output_type": "execute_result"
    }
   ],
   "source": [
    "et = np.nanmean(ets,axis=1)\n",
    "et.shape"
   ]
  },
  {
   "cell_type": "code",
   "execution_count": 43,
   "metadata": {},
   "outputs": [],
   "source": [
    "from matplotlib import pyplot as plt\n",
    "import matplotlib.lines as mlines"
   ]
  },
  {
   "cell_type": "code",
   "execution_count": 44,
   "metadata": {},
   "outputs": [
    {
     "data": {
      "text/plain": [
       "<matplotlib.lines.Line2D at 0x7fca05621ff0>"
      ]
     },
     "execution_count": 44,
     "metadata": {},
     "output_type": "execute_result"
    },
    {
     "data": {
      "image/png": "[encoded data removed]",
      "text/plain": [
       "<Figure size 640x480 with 1 Axes>"
      ]
     },
     "metadata": {},
     "output_type": "display_data"
    }
   ],
   "source": [
    "fig, ax = plt.subplots()\n",
    "ax.scatter(p-q, et, c=\"blue\", s=10)\n",
    "xlim = [-3.5, 4]\n",
    "ylim = [0, 4]\n",
    "ax.set_xlim(xlim)\n",
    "ax.set_ylim(ylim)\n",
    "line = mlines.Line2D([0, 4], [0, 4], color=\"red\", linestyle=\"--\")\n",
    "ax.add_line(line)"
   ]
  },
  {
   "cell_type": "code",
   "execution_count": 45,
   "metadata": {},
   "outputs": [
    {
     "data": {
      "text/plain": [
       "(591,)"
      ]
     },
     "execution_count": 45,
     "metadata": {},
     "output_type": "execute_result"
    }
   ],
   "source": [
    "q_mtl_no_wbloss = pred_no_wbloss[:, :, 0]\n",
    "q_no_wbloss = q_mtl_no_wbloss.mean(axis=1)\n",
    "q_no_wbloss.shape"
   ]
  },
  {
   "cell_type": "code",
   "execution_count": 46,
   "metadata": {},
   "outputs": [
    {
     "data": {
      "text/plain": [
       "(591,)"
      ]
     },
     "execution_count": 46,
     "metadata": {},
     "output_type": "execute_result"
    }
   ],
   "source": [
    "et_mtl_no_wbloss = pred_no_wbloss[:, :, 1]\n",
    "et_no_wbloss = et_mtl_no_wbloss.mean(axis=1)\n",
    "et_no_wbloss.shape"
   ]
  },
  {
   "cell_type": "code",
   "execution_count": 47,
   "metadata": {},
   "outputs": [
    {
     "data": {
      "text/plain": [
       "(591,)"
      ]
     },
     "execution_count": 47,
     "metadata": {},
     "output_type": "execute_result"
    }
   ],
   "source": [
    "q_mtl_wbloss = pred_wbloss_alpha10[:, :, 0]\n",
    "q_wbloss = q_mtl_wbloss.mean(axis=1)\n",
    "q_wbloss.shape"
   ]
  },
  {
   "cell_type": "code",
   "execution_count": 48,
   "metadata": {},
   "outputs": [
    {
     "data": {
      "text/plain": [
       "(591,)"
      ]
     },
     "execution_count": 48,
     "metadata": {},
     "output_type": "execute_result"
    }
   ],
   "source": [
    "et_mtl_wbloss = pred_wbloss_alpha10[:, :, 1]\n",
    "et_wbloss = et_mtl_wbloss.mean(axis=1)\n",
    "et_wbloss.shape"
   ]
  },
  {
   "cell_type": "code",
   "execution_count": 49,
   "metadata": {},
   "outputs": [
    {
     "data": {
      "text/plain": [
       "<matplotlib.lines.Line2D at 0x7fca05621450>"
      ]
     },
     "execution_count": 49,
     "metadata": {},
     "output_type": "execute_result"
    },
    {
     "data": {
      "image/png": "[encoded data removed]",
      "text/plain": [
       "<Figure size 640x480 with 1 Axes>"
      ]
     },
     "metadata": {},
     "output_type": "display_data"
    }
   ],
   "source": [
    "fig, ax = plt.subplots()\n",
    "ax.scatter(p-q_no_wbloss, et_no_wbloss, c=\"blue\", s=10)\n",
    "xlim = [-3.5, 4]\n",
    "ylim = [0, 4]\n",
    "ax.set_xlim(xlim)\n",
    "ax.set_ylim(ylim)\n",
    "line = mlines.Line2D([0, 4], [0, 4], color=\"red\", linestyle=\"--\")\n",
    "ax.add_line(line)"
   ]
  },
  {
   "cell_type": "code",
   "execution_count": 50,
   "metadata": {},
   "outputs": [
    {
     "data": {
      "text/plain": [
       "<matplotlib.lines.Line2D at 0x7fca0539a3b0>"
      ]
     },
     "execution_count": 50,
     "metadata": {},
     "output_type": "execute_result"
    },
    {
     "data": {
      "image/png": "[encoded data removed]",
      "text/plain": [
       "<Figure size 640x480 with 1 Axes>"
      ]
     },
     "metadata": {},
     "output_type": "display_data"
    }
   ],
   "source": [
    "fig, ax = plt.subplots()\n",
    "ax.scatter(p-q_wbloss, et_wbloss, c=\"blue\", s=10)\n",
    "xlim = [-3.5, 4]\n",
    "ylim = [0, 4]\n",
    "ax.set_xlim(xlim)\n",
    "ax.set_ylim(ylim)\n",
    "line = mlines.Line2D([0, 4], [0, 4], color=\"red\", linestyle=\"--\")\n",
    "ax.add_line(line)"
   ]
  },
  {
   "cell_type": "code",
   "execution_count": null,
   "metadata": {},
   "outputs": [],
   "source": []
  }
 ],
 "metadata": {
  "kernelspec": {
   "display_name": "Python 3.10.6 ('HydroSPB22')",
   "language": "python",
   "name": "python3"
  },
  "language_info": {
   "codemirror_mode": {
    "name": "ipython",
    "version": 3
   },
   "file_extension": ".py",
   "mimetype": "text/x-python",
   "name": "python",
   "nbconvert_exporter": "python",
   "pygments_lexer": "ipython3",
   "version": "3.10.6"
  },
  "vscode": {
   "interpreter": {
    "hash": "9815283c644bbf3d1d2752d23b412bb7b0c2a9fbb18150c86e2061f8a16f47ce"
   }
  }
 },
 "nbformat": 4,
 "nbformat_minor": 4
}
