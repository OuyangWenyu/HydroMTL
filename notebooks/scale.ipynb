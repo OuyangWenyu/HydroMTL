{
 "cells": [
  {
   "attachments": {},
   "cell_type": "markdown",
   "metadata": {},
   "source": [
    "# Scaling experiments\n",
    "\n",
    "Here we try to plot figures of scaling curves for MTL models and STL models and their PUB results. It can reflect how models perform for temporal and spatial generalization when the number of trained basins increases.\n",
    "\n",
    "When the number of basins is small, the choice of basins may be biased. So we randomly select basins from the whole dataset for many times and calculate the mean/median metrics as the final result.\n",
    "\n",
    "We can see the difference between MTL and STL models."
   ]
  },
  {
   "cell_type": "code",
   "execution_count": 1,
   "metadata": {},
   "outputs": [
    {
     "name": "stdout",
     "output_type": "stream",
     "text": [
      "Please Check your directory:\n",
      "ROOT_DIR of the repo:  /mnt/sdc/owen/code/HydroMTL\n",
      "DATA_SOURCE_DIR of the repo:  /mnt/data/owen411/data\n",
      "RESULT_DIR of the repo:  /mnt/sdc/owen/code/HydroMTL/results\n"
     ]
    },
    {
     "name": "stderr",
     "output_type": "stream",
     "text": [
      "/mnt/data/owen411/program/miniconda3/envs/MTL/lib/python3.10/site-packages/tqdm/auto.py:21: TqdmWarning: IProgress not found. Please update jupyter and ipywidgets. See https://ipywidgets.readthedocs.io/en/stable/user_install.html\n",
      "  from .autonotebook import tqdm as notebook_tqdm\n"
     ]
    }
   ],
   "source": [
    "import numpy as np\n",
    "from matplotlib import pyplot as plt\n",
    "import os\n",
    "import sys\n",
    "\n",
    "# Get the current directory of the notebook\n",
    "notebook_dir = os.path.abspath(\"\")\n",
    "# Get the parent directory of the notebook directory\n",
    "project_dir = os.path.dirname(notebook_dir)\n",
    "# import the module using a relative path\n",
    "sys.path.append(project_dir)\n",
    "import definitions\n",
    "from scripts.streamflow_utils import get_json_file\n",
    "from hydromtl.models.trainer import stat_result\n",
    "from hydromtl.utils import hydro_constant\n"
   ]
  },
  {
   "cell_type": "code",
   "execution_count": 2,
   "metadata": {},
   "outputs": [],
   "source": [
    "x_percents = [5, 10, 15, 20, 25, 50, 75, 95]\n"
   ]
  },
  {
   "attachments": {},
   "cell_type": "markdown",
   "metadata": {},
   "source": [
    "There are multiple sub-experiments in each x_percent setting. Read them all and calcuate the mean/median value of all sub-experiments as the final result.\n",
    "\n",
    "First, get the list of all experiments."
   ]
  },
  {
   "cell_type": "code",
   "execution_count": 3,
   "metadata": {},
   "outputs": [],
   "source": [
    "mtl_scale_exps = [\n",
    "    \"expscalemtlpercent\" + str(x_percents[i]).zfill(3) for i in range(len(x_percents))\n",
    "]\n",
    "# et_scale_exps = [\n",
    "#     \"expscalestletpercent\" + str(x_percents[i]).zfill(3) for i in range(len(x_percents))\n",
    "# ]\n",
    "q_scale_exps = [\n",
    "    \"expscalestlqpercent\" + str(x_percents[i]).zfill(3) for i in range(len(x_percents))\n",
    "]"
   ]
  },
  {
   "attachments": {},
   "cell_type": "markdown",
   "metadata": {},
   "source": [
    "Then, for each experiment, get the list of all sub-experiments.\n",
    "\n",
    "1. Temporal generalization sub-experiments:"
   ]
  },
  {
   "cell_type": "code",
   "execution_count": 4,
   "metadata": {},
   "outputs": [],
   "source": [
    "all_mtl_scale_temporal_exps=[]\n",
    "all_q_scale_temporal_exps=[]\n",
    "for i in range(len(mtl_scale_exps)):\n",
    "    x_percent = x_percents[i]\n",
    "    if x_percent < 50:\n",
    "        split_num = int(1 / (x_percent / 100))\n",
    "    else:\n",
    "        split_num = round(1 / (1 - x_percent / 100))\n",
    "    mtl_scale_temporal_exps = [\n",
    "        mtl_scale_exps[i] + str(j + 1).zfill(2) for j in range(split_num)\n",
    "    ]\n",
    "    q_scale_temporal_exps = [\n",
    "        q_scale_exps[i] + str(j + 1).zfill(2) for j in range(split_num)\n",
    "    ]\n",
    "    all_mtl_scale_temporal_exps.append(mtl_scale_temporal_exps)\n",
    "    all_q_scale_temporal_exps.append(q_scale_temporal_exps)"
   ]
  },
  {
   "attachments": {},
   "cell_type": "markdown",
   "metadata": {},
   "source": [
    "Function to read metric of each sub-experiment:"
   ]
  },
  {
   "cell_type": "code",
   "execution_count": 12,
   "metadata": {},
   "outputs": [],
   "source": [
    "def read_metric_of_all_sub_exps(\n",
    "    scale_exps,\n",
    "    var_idx=0,\n",
    "    metric=\"NSE\",\n",
    "    var_names=[\n",
    "        hydro_constant.streamflow.name,\n",
    "        hydro_constant.evapotranspiration.name,\n",
    "    ],\n",
    "    var_units=[\"ft3/s\", \"mm/day\"],\n",
    "):\n",
    "    ind_all_lst = []\n",
    "    for i in range(len(scale_exps)):\n",
    "        # for each sub-experiment\n",
    "        ind_lst = []\n",
    "        for j in range(len(scale_exps[i])):\n",
    "            cfg_dir = os.path.join(\n",
    "                definitions.RESULT_DIR,\n",
    "                \"camels\",\n",
    "                scale_exps[i][j],\n",
    "            )\n",
    "            cfg_data = get_json_file(cfg_dir)\n",
    "            inds_df_tmp, _, _ = stat_result(\n",
    "                cfg_data[\"data_params\"][\"test_path\"],\n",
    "                cfg_data[\"evaluate_params\"][\"test_epoch\"],\n",
    "                fill_nan=cfg_data[\"evaluate_params\"][\"fill_nan\"],\n",
    "                return_value=True,\n",
    "                var_unit=var_units,\n",
    "                var_name=var_names,\n",
    "            )\n",
    "            ind_lst.append(inds_df_tmp[var_idx][metric].values)\n",
    "        ind_all_lst.append(ind_lst)\n",
    "    return ind_all_lst"
   ]
  },
  {
   "attachments": {},
   "cell_type": "markdown",
   "metadata": {},
   "source": [
    "Then, we can read results of all the sub-experiments"
   ]
  },
  {
   "attachments": {},
   "cell_type": "markdown",
   "metadata": {},
   "source": [
    "For streamflow of MTL exps:"
   ]
  },
  {
   "cell_type": "code",
   "execution_count": 6,
   "metadata": {},
   "outputs": [
    {
     "name": "stderr",
     "output_type": "stream",
     "text": [
      "/mnt/sdc/owen/code/HydroMTL/hydromtl/utils/hydro_stat.py:413: RuntimeWarning: divide by zero encountered in double_scalars\n",
      "  PBiaslow[k] = np.sum(lowpred - lowtarget) / np.sum(lowtarget) * 100\n",
      "/mnt/sdc/owen/code/HydroMTL/hydromtl/utils/hydro_stat.py:413: RuntimeWarning: divide by zero encountered in double_scalars\n",
      "  PBiaslow[k] = np.sum(lowpred - lowtarget) / np.sum(lowtarget) * 100\n",
      "/mnt/sdc/owen/code/HydroMTL/hydromtl/utils/hydro_stat.py:413: RuntimeWarning: divide by zero encountered in double_scalars\n",
      "  PBiaslow[k] = np.sum(lowpred - lowtarget) / np.sum(lowtarget) * 100\n",
      "/mnt/sdc/owen/code/HydroMTL/hydromtl/utils/hydro_stat.py:413: RuntimeWarning: divide by zero encountered in double_scalars\n",
      "  PBiaslow[k] = np.sum(lowpred - lowtarget) / np.sum(lowtarget) * 100\n",
      "/mnt/sdc/owen/code/HydroMTL/hydromtl/utils/hydro_stat.py:413: RuntimeWarning: divide by zero encountered in double_scalars\n",
      "  PBiaslow[k] = np.sum(lowpred - lowtarget) / np.sum(lowtarget) * 100\n",
      "/mnt/sdc/owen/code/HydroMTL/hydromtl/utils/hydro_stat.py:413: RuntimeWarning: divide by zero encountered in double_scalars\n",
      "  PBiaslow[k] = np.sum(lowpred - lowtarget) / np.sum(lowtarget) * 100\n",
      "/mnt/sdc/owen/code/HydroMTL/hydromtl/utils/hydro_stat.py:413: RuntimeWarning: divide by zero encountered in double_scalars\n",
      "  PBiaslow[k] = np.sum(lowpred - lowtarget) / np.sum(lowtarget) * 100\n",
      "/mnt/sdc/owen/code/HydroMTL/hydromtl/utils/hydro_stat.py:413: RuntimeWarning: divide by zero encountered in double_scalars\n",
      "  PBiaslow[k] = np.sum(lowpred - lowtarget) / np.sum(lowtarget) * 100\n",
      "/mnt/sdc/owen/code/HydroMTL/hydromtl/utils/hydro_stat.py:413: RuntimeWarning: divide by zero encountered in double_scalars\n",
      "  PBiaslow[k] = np.sum(lowpred - lowtarget) / np.sum(lowtarget) * 100\n",
      "/mnt/sdc/owen/code/HydroMTL/hydromtl/utils/hydro_stat.py:413: RuntimeWarning: divide by zero encountered in double_scalars\n",
      "  PBiaslow[k] = np.sum(lowpred - lowtarget) / np.sum(lowtarget) * 100\n",
      "/mnt/sdc/owen/code/HydroMTL/hydromtl/utils/hydro_stat.py:413: RuntimeWarning: divide by zero encountered in double_scalars\n",
      "  PBiaslow[k] = np.sum(lowpred - lowtarget) / np.sum(lowtarget) * 100\n",
      "/mnt/sdc/owen/code/HydroMTL/hydromtl/utils/hydro_stat.py:413: RuntimeWarning: divide by zero encountered in double_scalars\n",
      "  PBiaslow[k] = np.sum(lowpred - lowtarget) / np.sum(lowtarget) * 100\n",
      "/mnt/sdc/owen/code/HydroMTL/hydromtl/utils/hydro_stat.py:413: RuntimeWarning: divide by zero encountered in double_scalars\n",
      "  PBiaslow[k] = np.sum(lowpred - lowtarget) / np.sum(lowtarget) * 100\n",
      "/mnt/sdc/owen/code/HydroMTL/hydromtl/utils/hydro_stat.py:413: RuntimeWarning: divide by zero encountered in double_scalars\n",
      "  PBiaslow[k] = np.sum(lowpred - lowtarget) / np.sum(lowtarget) * 100\n",
      "/mnt/sdc/owen/code/HydroMTL/hydromtl/utils/hydro_stat.py:413: RuntimeWarning: divide by zero encountered in double_scalars\n",
      "  PBiaslow[k] = np.sum(lowpred - lowtarget) / np.sum(lowtarget) * 100\n",
      "/mnt/sdc/owen/code/HydroMTL/hydromtl/utils/hydro_stat.py:413: RuntimeWarning: divide by zero encountered in double_scalars\n",
      "  PBiaslow[k] = np.sum(lowpred - lowtarget) / np.sum(lowtarget) * 100\n",
      "/mnt/sdc/owen/code/HydroMTL/hydromtl/utils/hydro_stat.py:413: RuntimeWarning: divide by zero encountered in double_scalars\n",
      "  PBiaslow[k] = np.sum(lowpred - lowtarget) / np.sum(lowtarget) * 100\n",
      "/mnt/sdc/owen/code/HydroMTL/hydromtl/utils/hydro_stat.py:413: RuntimeWarning: divide by zero encountered in double_scalars\n",
      "  PBiaslow[k] = np.sum(lowpred - lowtarget) / np.sum(lowtarget) * 100\n",
      "/mnt/sdc/owen/code/HydroMTL/hydromtl/utils/hydro_stat.py:413: RuntimeWarning: divide by zero encountered in double_scalars\n",
      "  PBiaslow[k] = np.sum(lowpred - lowtarget) / np.sum(lowtarget) * 100\n",
      "/mnt/sdc/owen/code/HydroMTL/hydromtl/utils/hydro_stat.py:413: RuntimeWarning: divide by zero encountered in double_scalars\n",
      "  PBiaslow[k] = np.sum(lowpred - lowtarget) / np.sum(lowtarget) * 100\n",
      "/mnt/sdc/owen/code/HydroMTL/hydromtl/utils/hydro_stat.py:413: RuntimeWarning: divide by zero encountered in double_scalars\n",
      "  PBiaslow[k] = np.sum(lowpred - lowtarget) / np.sum(lowtarget) * 100\n",
      "/mnt/sdc/owen/code/HydroMTL/hydromtl/utils/hydro_stat.py:413: RuntimeWarning: divide by zero encountered in double_scalars\n",
      "  PBiaslow[k] = np.sum(lowpred - lowtarget) / np.sum(lowtarget) * 100\n",
      "/mnt/sdc/owen/code/HydroMTL/hydromtl/utils/hydro_stat.py:413: RuntimeWarning: divide by zero encountered in double_scalars\n",
      "  PBiaslow[k] = np.sum(lowpred - lowtarget) / np.sum(lowtarget) * 100\n",
      "/mnt/sdc/owen/code/HydroMTL/hydromtl/utils/hydro_stat.py:413: RuntimeWarning: divide by zero encountered in double_scalars\n",
      "  PBiaslow[k] = np.sum(lowpred - lowtarget) / np.sum(lowtarget) * 100\n",
      "/mnt/sdc/owen/code/HydroMTL/hydromtl/utils/hydro_stat.py:413: RuntimeWarning: divide by zero encountered in double_scalars\n",
      "  PBiaslow[k] = np.sum(lowpred - lowtarget) / np.sum(lowtarget) * 100\n",
      "/mnt/sdc/owen/code/HydroMTL/hydromtl/utils/hydro_stat.py:413: RuntimeWarning: divide by zero encountered in double_scalars\n",
      "  PBiaslow[k] = np.sum(lowpred - lowtarget) / np.sum(lowtarget) * 100\n"
     ]
    },
    {
     "ename": "KeyboardInterrupt",
     "evalue": "",
     "output_type": "error",
     "traceback": [
      "\u001b[0;31m---------------------------------------------------------------------------\u001b[0m",
      "\u001b[0;31mKeyboardInterrupt\u001b[0m                         Traceback (most recent call last)",
      "Cell \u001b[0;32mIn[6], line 9\u001b[0m\n\u001b[1;32m      4\u001b[0m var_names \u001b[39m=\u001b[39m [\n\u001b[1;32m      5\u001b[0m     hydro_constant\u001b[39m.\u001b[39mstreamflow\u001b[39m.\u001b[39mname,\n\u001b[1;32m      6\u001b[0m     hydro_constant\u001b[39m.\u001b[39mevapotranspiration\u001b[39m.\u001b[39mname,\n\u001b[1;32m      7\u001b[0m ]\n\u001b[1;32m      8\u001b[0m var_units \u001b[39m=\u001b[39m [\u001b[39m\"\u001b[39m\u001b[39mft3/s\u001b[39m\u001b[39m\"\u001b[39m, \u001b[39m\"\u001b[39m\u001b[39mmm/day\u001b[39m\u001b[39m\"\u001b[39m]\n\u001b[0;32m----> 9\u001b[0m \u001b[39mfor\u001b[39;00m i \u001b[39min\u001b[39;00m \u001b[39mrange\u001b[39m(\u001b[39mlen\u001b[39m(all_mtl_scale_temporal_exps)):\n\u001b[1;32m     10\u001b[0m     \u001b[39m# for each sub-experiment\u001b[39;00m\n\u001b[1;32m     11\u001b[0m     ind_lst \u001b[39m=\u001b[39m []\n\u001b[1;32m     12\u001b[0m     \u001b[39mfor\u001b[39;00m j \u001b[39min\u001b[39;00m \u001b[39mrange\u001b[39m(\u001b[39mlen\u001b[39m(all_mtl_scale_temporal_exps[i])):\n",
      "Cell \u001b[0;32mIn[6], line 9\u001b[0m\n\u001b[1;32m      4\u001b[0m var_names \u001b[39m=\u001b[39m [\n\u001b[1;32m      5\u001b[0m     hydro_constant\u001b[39m.\u001b[39mstreamflow\u001b[39m.\u001b[39mname,\n\u001b[1;32m      6\u001b[0m     hydro_constant\u001b[39m.\u001b[39mevapotranspiration\u001b[39m.\u001b[39mname,\n\u001b[1;32m      7\u001b[0m ]\n\u001b[1;32m      8\u001b[0m var_units \u001b[39m=\u001b[39m [\u001b[39m\"\u001b[39m\u001b[39mft3/s\u001b[39m\u001b[39m\"\u001b[39m, \u001b[39m\"\u001b[39m\u001b[39mmm/day\u001b[39m\u001b[39m\"\u001b[39m]\n\u001b[0;32m----> 9\u001b[0m \u001b[39mfor\u001b[39;00m i \u001b[39min\u001b[39;00m \u001b[39mrange\u001b[39m(\u001b[39mlen\u001b[39m(all_mtl_scale_temporal_exps)):\n\u001b[1;32m     10\u001b[0m     \u001b[39m# for each sub-experiment\u001b[39;00m\n\u001b[1;32m     11\u001b[0m     ind_lst \u001b[39m=\u001b[39m []\n\u001b[1;32m     12\u001b[0m     \u001b[39mfor\u001b[39;00m j \u001b[39min\u001b[39;00m \u001b[39mrange\u001b[39m(\u001b[39mlen\u001b[39m(all_mtl_scale_temporal_exps[i])):\n",
      "File \u001b[0;32m_pydevd_bundle/pydevd_cython.pyx:1457\u001b[0m, in \u001b[0;36m_pydevd_bundle.pydevd_cython.SafeCallWrapper.__call__\u001b[0;34m()\u001b[0m\n",
      "File \u001b[0;32m_pydevd_bundle/pydevd_cython.pyx:701\u001b[0m, in \u001b[0;36m_pydevd_bundle.pydevd_cython.PyDBFrame.trace_dispatch\u001b[0;34m()\u001b[0m\n",
      "File \u001b[0;32m_pydevd_bundle/pydevd_cython.pyx:1152\u001b[0m, in \u001b[0;36m_pydevd_bundle.pydevd_cython.PyDBFrame.trace_dispatch\u001b[0;34m()\u001b[0m\n",
      "File \u001b[0;32m_pydevd_bundle/pydevd_cython.pyx:1135\u001b[0m, in \u001b[0;36m_pydevd_bundle.pydevd_cython.PyDBFrame.trace_dispatch\u001b[0;34m()\u001b[0m\n",
      "File \u001b[0;32m_pydevd_bundle/pydevd_cython.pyx:312\u001b[0m, in \u001b[0;36m_pydevd_bundle.pydevd_cython.PyDBFrame.do_wait_suspend\u001b[0;34m()\u001b[0m\n",
      "File \u001b[0;32m/mnt/data/owen411/program/miniconda3/envs/MTL/lib/python3.10/site-packages/debugpy/_vendored/pydevd/pydevd.py:2070\u001b[0m, in \u001b[0;36mPyDB.do_wait_suspend\u001b[0;34m(self, thread, frame, event, arg, exception_type)\u001b[0m\n\u001b[1;32m   2067\u001b[0m             from_this_thread\u001b[39m.\u001b[39mappend(frame_custom_thread_id)\n\u001b[1;32m   2069\u001b[0m     \u001b[39mwith\u001b[39;00m \u001b[39mself\u001b[39m\u001b[39m.\u001b[39m_threads_suspended_single_notification\u001b[39m.\u001b[39mnotify_thread_suspended(thread_id, thread, stop_reason):\n\u001b[0;32m-> 2070\u001b[0m         keep_suspended \u001b[39m=\u001b[39m \u001b[39mself\u001b[39;49m\u001b[39m.\u001b[39;49m_do_wait_suspend(thread, frame, event, arg, suspend_type, from_this_thread, frames_tracker)\n\u001b[1;32m   2072\u001b[0m frames_list \u001b[39m=\u001b[39m \u001b[39mNone\u001b[39;00m\n\u001b[1;32m   2074\u001b[0m \u001b[39mif\u001b[39;00m keep_suspended:\n\u001b[1;32m   2075\u001b[0m     \u001b[39m# This means that we should pause again after a set next statement.\u001b[39;00m\n",
      "File \u001b[0;32m/mnt/data/owen411/program/miniconda3/envs/MTL/lib/python3.10/site-packages/debugpy/_vendored/pydevd/pydevd.py:2106\u001b[0m, in \u001b[0;36mPyDB._do_wait_suspend\u001b[0;34m(self, thread, frame, event, arg, suspend_type, from_this_thread, frames_tracker)\u001b[0m\n\u001b[1;32m   2103\u001b[0m         \u001b[39mself\u001b[39m\u001b[39m.\u001b[39m_call_input_hook()\n\u001b[1;32m   2105\u001b[0m     \u001b[39mself\u001b[39m\u001b[39m.\u001b[39mprocess_internal_commands()\n\u001b[0;32m-> 2106\u001b[0m     time\u001b[39m.\u001b[39;49msleep(\u001b[39m0.01\u001b[39;49m)\n\u001b[1;32m   2108\u001b[0m \u001b[39mself\u001b[39m\u001b[39m.\u001b[39mcancel_async_evaluation(get_current_thread_id(thread), \u001b[39mstr\u001b[39m(\u001b[39mid\u001b[39m(frame)))\n\u001b[1;32m   2110\u001b[0m \u001b[39m# process any stepping instructions\u001b[39;00m\n",
      "\u001b[0;31mKeyboardInterrupt\u001b[0m: "
     ]
    }
   ],
   "source": [
    "mtlq_temporal_metric_lst = read_metric_of_all_sub_exps(all_mtl_scale_temporal_exps)\n"
   ]
  },
  {
   "attachments": {},
   "cell_type": "markdown",
   "metadata": {},
   "source": [
    "For streamflow of STL exps:"
   ]
  },
  {
   "cell_type": "code",
   "execution_count": 7,
   "metadata": {},
   "outputs": [
    {
     "name": "stderr",
     "output_type": "stream",
     "text": [
      "/mnt/sdc/owen/code/HydroMTL/hydromtl/utils/hydro_stat.py:413: RuntimeWarning: divide by zero encountered in double_scalars\n",
      "  PBiaslow[k] = np.sum(lowpred - lowtarget) / np.sum(lowtarget) * 100\n",
      "/mnt/sdc/owen/code/HydroMTL/hydromtl/utils/hydro_stat.py:413: RuntimeWarning: divide by zero encountered in double_scalars\n",
      "  PBiaslow[k] = np.sum(lowpred - lowtarget) / np.sum(lowtarget) * 100\n",
      "/mnt/sdc/owen/code/HydroMTL/hydromtl/utils/hydro_stat.py:413: RuntimeWarning: divide by zero encountered in double_scalars\n",
      "  PBiaslow[k] = np.sum(lowpred - lowtarget) / np.sum(lowtarget) * 100\n",
      "/mnt/sdc/owen/code/HydroMTL/hydromtl/utils/hydro_stat.py:413: RuntimeWarning: divide by zero encountered in double_scalars\n",
      "  PBiaslow[k] = np.sum(lowpred - lowtarget) / np.sum(lowtarget) * 100\n",
      "/mnt/sdc/owen/code/HydroMTL/hydromtl/utils/hydro_stat.py:413: RuntimeWarning: divide by zero encountered in double_scalars\n",
      "  PBiaslow[k] = np.sum(lowpred - lowtarget) / np.sum(lowtarget) * 100\n",
      "/mnt/sdc/owen/code/HydroMTL/hydromtl/utils/hydro_stat.py:413: RuntimeWarning: divide by zero encountered in double_scalars\n",
      "  PBiaslow[k] = np.sum(lowpred - lowtarget) / np.sum(lowtarget) * 100\n",
      "/mnt/sdc/owen/code/HydroMTL/hydromtl/utils/hydro_stat.py:413: RuntimeWarning: divide by zero encountered in double_scalars\n",
      "  PBiaslow[k] = np.sum(lowpred - lowtarget) / np.sum(lowtarget) * 100\n",
      "/mnt/sdc/owen/code/HydroMTL/hydromtl/utils/hydro_stat.py:413: RuntimeWarning: divide by zero encountered in double_scalars\n",
      "  PBiaslow[k] = np.sum(lowpred - lowtarget) / np.sum(lowtarget) * 100\n",
      "/mnt/sdc/owen/code/HydroMTL/hydromtl/utils/hydro_stat.py:413: RuntimeWarning: divide by zero encountered in double_scalars\n",
      "  PBiaslow[k] = np.sum(lowpred - lowtarget) / np.sum(lowtarget) * 100\n",
      "/mnt/sdc/owen/code/HydroMTL/hydromtl/utils/hydro_stat.py:413: RuntimeWarning: divide by zero encountered in double_scalars\n",
      "  PBiaslow[k] = np.sum(lowpred - lowtarget) / np.sum(lowtarget) * 100\n",
      "/mnt/sdc/owen/code/HydroMTL/hydromtl/utils/hydro_stat.py:413: RuntimeWarning: divide by zero encountered in double_scalars\n",
      "  PBiaslow[k] = np.sum(lowpred - lowtarget) / np.sum(lowtarget) * 100\n",
      "/mnt/sdc/owen/code/HydroMTL/hydromtl/utils/hydro_stat.py:413: RuntimeWarning: divide by zero encountered in double_scalars\n",
      "  PBiaslow[k] = np.sum(lowpred - lowtarget) / np.sum(lowtarget) * 100\n",
      "/mnt/sdc/owen/code/HydroMTL/hydromtl/utils/hydro_stat.py:413: RuntimeWarning: divide by zero encountered in double_scalars\n",
      "  PBiaslow[k] = np.sum(lowpred - lowtarget) / np.sum(lowtarget) * 100\n",
      "/mnt/sdc/owen/code/HydroMTL/hydromtl/utils/hydro_stat.py:413: RuntimeWarning: divide by zero encountered in double_scalars\n",
      "  PBiaslow[k] = np.sum(lowpred - lowtarget) / np.sum(lowtarget) * 100\n",
      "/mnt/sdc/owen/code/HydroMTL/hydromtl/utils/hydro_stat.py:413: RuntimeWarning: divide by zero encountered in double_scalars\n",
      "  PBiaslow[k] = np.sum(lowpred - lowtarget) / np.sum(lowtarget) * 100\n",
      "/mnt/sdc/owen/code/HydroMTL/hydromtl/utils/hydro_stat.py:413: RuntimeWarning: divide by zero encountered in double_scalars\n",
      "  PBiaslow[k] = np.sum(lowpred - lowtarget) / np.sum(lowtarget) * 100\n",
      "/mnt/sdc/owen/code/HydroMTL/hydromtl/utils/hydro_stat.py:413: RuntimeWarning: divide by zero encountered in double_scalars\n",
      "  PBiaslow[k] = np.sum(lowpred - lowtarget) / np.sum(lowtarget) * 100\n"
     ]
    },
    {
     "ename": "KeyboardInterrupt",
     "evalue": "",
     "output_type": "error",
     "traceback": [
      "\u001b[0;31m---------------------------------------------------------------------------\u001b[0m",
      "\u001b[0;31mKeyboardInterrupt\u001b[0m                         Traceback (most recent call last)",
      "Cell \u001b[0;32mIn[7], line 3\u001b[0m\n\u001b[1;32m      1\u001b[0m ind_all_lst_stlq \u001b[39m=\u001b[39m []\n\u001b[1;32m      2\u001b[0m var_units \u001b[39m=\u001b[39m [\u001b[39m\"\u001b[39m\u001b[39mft3/s\u001b[39m\u001b[39m\"\u001b[39m, \u001b[39m\"\u001b[39m\u001b[39mmm/day\u001b[39m\u001b[39m\"\u001b[39m]\n\u001b[0;32m----> 3\u001b[0m \u001b[39mfor\u001b[39;00m i \u001b[39min\u001b[39;00m \u001b[39mrange\u001b[39m(\u001b[39mlen\u001b[39m(all_q_scale_temporal_exps)):\n\u001b[1;32m      4\u001b[0m     \u001b[39m# for each sub-experiment\u001b[39;00m\n\u001b[1;32m      5\u001b[0m     ind_lst_stlq \u001b[39m=\u001b[39m []\n\u001b[1;32m      6\u001b[0m     \u001b[39mfor\u001b[39;00m j \u001b[39min\u001b[39;00m \u001b[39mrange\u001b[39m(\u001b[39mlen\u001b[39m(all_q_scale_temporal_exps[i])):\n",
      "Cell \u001b[0;32mIn[7], line 3\u001b[0m\n\u001b[1;32m      1\u001b[0m ind_all_lst_stlq \u001b[39m=\u001b[39m []\n\u001b[1;32m      2\u001b[0m var_units \u001b[39m=\u001b[39m [\u001b[39m\"\u001b[39m\u001b[39mft3/s\u001b[39m\u001b[39m\"\u001b[39m, \u001b[39m\"\u001b[39m\u001b[39mmm/day\u001b[39m\u001b[39m\"\u001b[39m]\n\u001b[0;32m----> 3\u001b[0m \u001b[39mfor\u001b[39;00m i \u001b[39min\u001b[39;00m \u001b[39mrange\u001b[39m(\u001b[39mlen\u001b[39m(all_q_scale_temporal_exps)):\n\u001b[1;32m      4\u001b[0m     \u001b[39m# for each sub-experiment\u001b[39;00m\n\u001b[1;32m      5\u001b[0m     ind_lst_stlq \u001b[39m=\u001b[39m []\n\u001b[1;32m      6\u001b[0m     \u001b[39mfor\u001b[39;00m j \u001b[39min\u001b[39;00m \u001b[39mrange\u001b[39m(\u001b[39mlen\u001b[39m(all_q_scale_temporal_exps[i])):\n",
      "File \u001b[0;32m_pydevd_bundle/pydevd_cython.pyx:1457\u001b[0m, in \u001b[0;36m_pydevd_bundle.pydevd_cython.SafeCallWrapper.__call__\u001b[0;34m()\u001b[0m\n",
      "File \u001b[0;32m_pydevd_bundle/pydevd_cython.pyx:701\u001b[0m, in \u001b[0;36m_pydevd_bundle.pydevd_cython.PyDBFrame.trace_dispatch\u001b[0;34m()\u001b[0m\n",
      "File \u001b[0;32m_pydevd_bundle/pydevd_cython.pyx:1152\u001b[0m, in \u001b[0;36m_pydevd_bundle.pydevd_cython.PyDBFrame.trace_dispatch\u001b[0;34m()\u001b[0m\n",
      "File \u001b[0;32m_pydevd_bundle/pydevd_cython.pyx:1135\u001b[0m, in \u001b[0;36m_pydevd_bundle.pydevd_cython.PyDBFrame.trace_dispatch\u001b[0;34m()\u001b[0m\n",
      "File \u001b[0;32m_pydevd_bundle/pydevd_cython.pyx:312\u001b[0m, in \u001b[0;36m_pydevd_bundle.pydevd_cython.PyDBFrame.do_wait_suspend\u001b[0;34m()\u001b[0m\n",
      "File \u001b[0;32m/mnt/data/owen411/program/miniconda3/envs/MTL/lib/python3.10/site-packages/debugpy/_vendored/pydevd/pydevd.py:2070\u001b[0m, in \u001b[0;36mPyDB.do_wait_suspend\u001b[0;34m(self, thread, frame, event, arg, exception_type)\u001b[0m\n\u001b[1;32m   2067\u001b[0m             from_this_thread\u001b[39m.\u001b[39mappend(frame_custom_thread_id)\n\u001b[1;32m   2069\u001b[0m     \u001b[39mwith\u001b[39;00m \u001b[39mself\u001b[39m\u001b[39m.\u001b[39m_threads_suspended_single_notification\u001b[39m.\u001b[39mnotify_thread_suspended(thread_id, thread, stop_reason):\n\u001b[0;32m-> 2070\u001b[0m         keep_suspended \u001b[39m=\u001b[39m \u001b[39mself\u001b[39;49m\u001b[39m.\u001b[39;49m_do_wait_suspend(thread, frame, event, arg, suspend_type, from_this_thread, frames_tracker)\n\u001b[1;32m   2072\u001b[0m frames_list \u001b[39m=\u001b[39m \u001b[39mNone\u001b[39;00m\n\u001b[1;32m   2074\u001b[0m \u001b[39mif\u001b[39;00m keep_suspended:\n\u001b[1;32m   2075\u001b[0m     \u001b[39m# This means that we should pause again after a set next statement.\u001b[39;00m\n",
      "File \u001b[0;32m/mnt/data/owen411/program/miniconda3/envs/MTL/lib/python3.10/site-packages/debugpy/_vendored/pydevd/pydevd.py:2106\u001b[0m, in \u001b[0;36mPyDB._do_wait_suspend\u001b[0;34m(self, thread, frame, event, arg, suspend_type, from_this_thread, frames_tracker)\u001b[0m\n\u001b[1;32m   2103\u001b[0m         \u001b[39mself\u001b[39m\u001b[39m.\u001b[39m_call_input_hook()\n\u001b[1;32m   2105\u001b[0m     \u001b[39mself\u001b[39m\u001b[39m.\u001b[39mprocess_internal_commands()\n\u001b[0;32m-> 2106\u001b[0m     time\u001b[39m.\u001b[39;49msleep(\u001b[39m0.01\u001b[39;49m)\n\u001b[1;32m   2108\u001b[0m \u001b[39mself\u001b[39m\u001b[39m.\u001b[39mcancel_async_evaluation(get_current_thread_id(thread), \u001b[39mstr\u001b[39m(\u001b[39mid\u001b[39m(frame)))\n\u001b[1;32m   2110\u001b[0m \u001b[39m# process any stepping instructions\u001b[39;00m\n",
      "\u001b[0;31mKeyboardInterrupt\u001b[0m: "
     ]
    }
   ],
   "source": [
    "stlq_temporal_metric_lst = read_metric_of_all_sub_exps(all_q_scale_temporal_exps)"
   ]
  },
  {
   "attachments": {},
   "cell_type": "markdown",
   "metadata": {},
   "source": [
    "2. Spatial generalization sub-experiments:"
   ]
  },
  {
   "cell_type": "code",
   "execution_count": 8,
   "metadata": {},
   "outputs": [],
   "source": [
    "all_mtl_scale_spatial_exps = []\n",
    "all_q_scale_spatial_exps = []\n",
    "for i in range(len(mtl_scale_exps)):\n",
    "    x_percent = x_percents[i]\n",
    "    if x_percent < 50:\n",
    "        split_num = int(1 / (x_percent / 100))\n",
    "    else:\n",
    "        split_num = round(1 / (1 - x_percent / 100))\n",
    "    mtl_scale_spatial_exps = [\n",
    "        mtl_scale_exps[i] + str(j + 1).zfill(2) + \"0\" for j in range(split_num)\n",
    "    ]\n",
    "    q_scale_spatial_exps = [\n",
    "        q_scale_exps[i] + str(j + 1).zfill(2) + \"0\" for j in range(split_num)\n",
    "    ]\n",
    "    all_mtl_scale_spatial_exps.append(mtl_scale_spatial_exps)\n",
    "    all_q_scale_spatial_exps.append(q_scale_spatial_exps)\n"
   ]
  },
  {
   "attachments": {},
   "cell_type": "markdown",
   "metadata": {},
   "source": [
    "Read metrics:"
   ]
  },
  {
   "cell_type": "code",
   "execution_count": 11,
   "metadata": {},
   "outputs": [
    {
     "data": {
      "text/plain": [
       "[['expscalemtlpercent005010',\n",
       "  'expscalemtlpercent005020',\n",
       "  'expscalemtlpercent005030',\n",
       "  'expscalemtlpercent005040',\n",
       "  'expscalemtlpercent005050',\n",
       "  'expscalemtlpercent005060',\n",
       "  'expscalemtlpercent005070',\n",
       "  'expscalemtlpercent005080',\n",
       "  'expscalemtlpercent005090',\n",
       "  'expscalemtlpercent005100',\n",
       "  'expscalemtlpercent005110',\n",
       "  'expscalemtlpercent005120',\n",
       "  'expscalemtlpercent005130',\n",
       "  'expscalemtlpercent005140',\n",
       "  'expscalemtlpercent005150',\n",
       "  'expscalemtlpercent005160',\n",
       "  'expscalemtlpercent005170',\n",
       "  'expscalemtlpercent005180',\n",
       "  'expscalemtlpercent005190',\n",
       "  'expscalemtlpercent005200'],\n",
       " ['expscalemtlpercent010010',\n",
       "  'expscalemtlpercent010020',\n",
       "  'expscalemtlpercent010030',\n",
       "  'expscalemtlpercent010040',\n",
       "  'expscalemtlpercent010050',\n",
       "  'expscalemtlpercent010060',\n",
       "  'expscalemtlpercent010070',\n",
       "  'expscalemtlpercent010080',\n",
       "  'expscalemtlpercent010090',\n",
       "  'expscalemtlpercent010100'],\n",
       " ['expscalemtlpercent015010',\n",
       "  'expscalemtlpercent015020',\n",
       "  'expscalemtlpercent015030',\n",
       "  'expscalemtlpercent015040',\n",
       "  'expscalemtlpercent015050',\n",
       "  'expscalemtlpercent015060'],\n",
       " ['expscalemtlpercent020010',\n",
       "  'expscalemtlpercent020020',\n",
       "  'expscalemtlpercent020030',\n",
       "  'expscalemtlpercent020040',\n",
       "  'expscalemtlpercent020050'],\n",
       " ['expscalemtlpercent025010',\n",
       "  'expscalemtlpercent025020',\n",
       "  'expscalemtlpercent025030',\n",
       "  'expscalemtlpercent025040'],\n",
       " ['expscalemtlpercent050010', 'expscalemtlpercent050020'],\n",
       " ['expscalemtlpercent075010',\n",
       "  'expscalemtlpercent075020',\n",
       "  'expscalemtlpercent075030',\n",
       "  'expscalemtlpercent075040'],\n",
       " ['expscalemtlpercent095010',\n",
       "  'expscalemtlpercent095020',\n",
       "  'expscalemtlpercent095030',\n",
       "  'expscalemtlpercent095040',\n",
       "  'expscalemtlpercent095050',\n",
       "  'expscalemtlpercent095060',\n",
       "  'expscalemtlpercent095070',\n",
       "  'expscalemtlpercent095080',\n",
       "  'expscalemtlpercent095090',\n",
       "  'expscalemtlpercent095100',\n",
       "  'expscalemtlpercent095110',\n",
       "  'expscalemtlpercent095120',\n",
       "  'expscalemtlpercent095130',\n",
       "  'expscalemtlpercent095140',\n",
       "  'expscalemtlpercent095150',\n",
       "  'expscalemtlpercent095160',\n",
       "  'expscalemtlpercent095170',\n",
       "  'expscalemtlpercent095180',\n",
       "  'expscalemtlpercent095190',\n",
       "  'expscalemtlpercent095200']]"
      ]
     },
     "execution_count": 11,
     "metadata": {},
     "output_type": "execute_result"
    }
   ],
   "source": [
    "mtlq_spatial_metric_lst = read_metric_of_all_sub_exps(all_mtl_scale_spatial_exps)"
   ]
  },
  {
   "cell_type": "code",
   "execution_count": null,
   "metadata": {},
   "outputs": [],
   "source": [
    "stlq_spatial_metric_lst = read_metric_of_all_sub_exps(all_q_scale_spatial_exps)"
   ]
  },
  {
   "attachments": {},
   "cell_type": "markdown",
   "metadata": {},
   "source": [
    "Next, we can plot the scaling curves.\n",
    "\n",
    "Temporal exps are plotted in one figure and spatial exps are plotted in another figure."
   ]
  },
  {
   "cell_type": "code",
   "execution_count": 17,
   "metadata": {},
   "outputs": [
    {
     "data": {
      "text/plain": [
       "[<matplotlib.lines.Line2D at 0x7f44849fe2c0>]"
      ]
     },
     "execution_count": 17,
     "metadata": {},
     "output_type": "execute_result"
    },
    {
     "data": {
      "image/png": "[encoded data removed]",
      "text/plain": [
       "<Figure size 640x480 with 1 Axes>"
      ]
     },
     "metadata": {},
     "output_type": "display_data"
    }
   ],
   "source": [
    "medians = [np.median(arr) for arr in inds_all_lst]\n",
    "\n",
    "plt.plot(x_percents, medians)"
   ]
  }
 ],
 "metadata": {
  "kernelspec": {
   "display_name": "MTL",
   "language": "python",
   "name": "mtl"
  },
  "language_info": {
   "codemirror_mode": {
    "name": "ipython",
    "version": 3
   },
   "file_extension": ".py",
   "mimetype": "text/x-python",
   "name": "python",
   "nbconvert_exporter": "python",
   "pygments_lexer": "ipython3",
   "version": "3.10.10"
  },
  "orig_nbformat": 4
 },
 "nbformat": 4,
 "nbformat_minor": 2
}
