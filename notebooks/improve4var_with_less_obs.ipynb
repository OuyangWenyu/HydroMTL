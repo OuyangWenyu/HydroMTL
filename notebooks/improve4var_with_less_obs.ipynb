{
 "cells": [
  {
   "attachments": {},
   "cell_type": "markdown",
   "metadata": {},
   "source": [
    "# Improvement for prediction in variable with less observations\n",
    "\n",
    "Try improving the prediction in the variable with less observations using MTL models.\n",
    "\n",
    "Firstly, Train an MTL model for streamflow and surface soil moisture in a period of 2005-2015. In this period, there is no observation data from SMAP. So, the model is trained only with streamflow data, but with the same structure as the MTL model trained with SMAP data.\n",
    "\n",
    "Then, in the period of 2016-2018, the model is used to retrain with streamflow and surface soil moisture from SMAP. \n",
    "\n",
    "Finally, in 2018-2021, the model is used to predict streamflow and surface soil moisture. The result is compared with the prediction of the STL model trained only with SMAP data (train in 2015-2018, test in 2018-2021)."
   ]
  },
  {
   "cell_type": "code",
   "execution_count": 1,
   "metadata": {},
   "outputs": [
    {
     "name": "stdout",
     "output_type": "stream",
     "text": [
      "Please Check your directory:\n",
      "ROOT_DIR of the repo:  /mnt/sdc/owen/code/HydroMTL\n",
      "DATA_SOURCE_DIR of the repo:  /mnt/data/owen411/data\n",
      "RESULT_DIR of the repo:  /mnt/sdc/owen/code/HydroMTL/results\n"
     ]
    },
    {
     "name": "stderr",
     "output_type": "stream",
     "text": [
      "/mnt/data/owen411/program/miniconda3/envs/MTL/lib/python3.10/site-packages/tqdm/auto.py:21: TqdmWarning: IProgress not found. Please update jupyter and ipywidgets. See https://ipywidgets.readthedocs.io/en/stable/user_install.html\n",
      "  from .autonotebook import tqdm as notebook_tqdm\n"
     ]
    }
   ],
   "source": [
    "import os\n",
    "import sys\n",
    "\n",
    "# Get the current directory of the notebook\n",
    "notebook_dir = os.path.abspath('')\n",
    "# Get the parent directory of the notebook directory\n",
    "project_dir = os.path.dirname(notebook_dir)\n",
    "# import the module using a relative path\n",
    "sys.path.append(project_dir)\n",
    "from scripts.mtl_results_utils import read_multi_single_exps_results\n",
    "from hydromtl.utils import hydro_constant\n"
   ]
  },
  {
   "attachments": {},
   "cell_type": "markdown",
   "metadata": {},
   "source": [
    "Some commands to train the model:\n",
    "\n",
    "```bash\n",
    "# STL Q\n",
    "python run_task.py --exp expstlq201 --output_vars usgsFlow ssm --loss_weight 1.0 0.0 --train_period 2005-10-01 2015-10-01 --test_period 2015-10-01 2018-10-01 --ctx 0 --random 1234 --limit_part 1\n",
    "# STL SSM\n",
    "python run_task.py --exp expstlssm001 --output_vars usgsFlow ssm --loss_weight 0.0 1.0 --train_period 2015-10-01 2018-10-01 --test_period 2018-10-01 2021-10-01 --ctx 1 --random 1234 --limit_part 0\n",
    "# MTL without STL-Q-pretrained\n",
    "python run_task.py --exp expmtlqssm001 --output_vars usgsFlow ssm --loss_weight 0.5 0.5 --train_period 2015-10-01 2018-10-01 --test_period 2018-10-01 2021-10-01 --ctx 0 --random 1234\n",
    "# MTL with STL-Q-pretrained\n",
    "python run_task.py --exp expmtlqssm101 --output_vars usgsFlow ssm --loss_weight 0.5 0.5 --train_period 2015-10-01 2018-10-01 --test_period 2018-10-01 2021-10-01 --ctx 1 --random 1234 --weight_path /mnt/sdc/owen/code/HydroMTL/results/camels/expstlq201/model_Ep200.pth --train_epoch 100\n",
    "```\n",
    "\n",
    "After run all above commands, the results are saved in the folder `results/camels/`. The results are shown in the following figure."
   ]
  },
  {
   "cell_type": "code",
   "execution_count": 2,
   "metadata": {},
   "outputs": [],
   "source": [
    "expstlssm = [\"expstlssm001\"]\n",
    "expmtlqssmwopre = [\"expmtlqssm001\"]\n",
    "expmtlqssmpre= [\"expmtlqssm101\"]\n",
    "exps_smtl_wo_pretrain = expstlssm + expmtlqssmwopre\n",
    "exps_smtl_pretrain = expstlssm + expmtlqssmpre\n"
   ]
  },
  {
   "cell_type": "code",
   "execution_count": 3,
   "metadata": {},
   "outputs": [
    {
     "name": "stderr",
     "output_type": "stream",
     "text": [
      "/mnt/sdc/owen/code/HydroMTL/hydromtl/utils/hydro_stat.py:414: RuntimeWarning: divide by zero encountered in double_scalars\n",
      "  PBiaslow[k] = np.sum(lowpred - lowtarget) / np.sum(lowtarget) * 100\n",
      "/mnt/sdc/owen/code/HydroMTL/hydromtl/utils/hydro_stat.py:391: RuntimeWarning: divide by zero encountered in double_scalars\n",
      "  PBias[k] = np.sum(xx - yy) / np.sum(yy) * 100\n",
      "/mnt/data/owen411/program/miniconda3/envs/MTL/lib/python3.10/site-packages/scipy/stats/_stats_py.py:4424: ConstantInputWarning: An input array is constant; the correlation coefficient is not defined.\n",
      "  warnings.warn(stats.ConstantInputWarning(msg))\n",
      "/mnt/sdc/owen/code/HydroMTL/hydromtl/utils/hydro_stat.py:399: RuntimeWarning: divide by zero encountered in double_scalars\n",
      "  R2[k] = 1 - SSRes / SST\n",
      "/mnt/sdc/owen/code/HydroMTL/hydromtl/utils/hydro_stat.py:400: RuntimeWarning: divide by zero encountered in double_scalars\n",
      "  NSE[k] = 1 - SSRes / SST\n",
      "/mnt/data/owen411/program/miniconda3/envs/MTL/lib/python3.10/site-packages/numpy/lib/function_base.py:2853: RuntimeWarning: invalid value encountered in divide\n",
      "  c /= stddev[:, None]\n",
      "/mnt/data/owen411/program/miniconda3/envs/MTL/lib/python3.10/site-packages/numpy/lib/function_base.py:2854: RuntimeWarning: invalid value encountered in divide\n",
      "  c /= stddev[None, :]\n",
      "/mnt/sdc/owen/code/HydroMTL/hydromtl/utils/hydro_stat.py:200: RuntimeWarning: divide by zero encountered in double_scalars\n",
      "  alpha = np.std(xs) / np.std(xo)\n",
      "/mnt/sdc/owen/code/HydroMTL/hydromtl/utils/hydro_stat.py:201: RuntimeWarning: divide by zero encountered in double_scalars\n",
      "  beta = np.mean(xs) / np.mean(xo)\n",
      "/mnt/sdc/owen/code/HydroMTL/hydromtl/utils/hydro_stat.py:415: RuntimeWarning: divide by zero encountered in double_scalars\n",
      "  PBiashigh[k] = np.sum(highpred - hightarget) / np.sum(hightarget) * 100\n",
      "/mnt/sdc/owen/code/HydroMTL/hydromtl/utils/hydro_stat.py:414: RuntimeWarning: divide by zero encountered in double_scalars\n",
      "  PBiaslow[k] = np.sum(lowpred - lowtarget) / np.sum(lowtarget) * 100\n",
      "/mnt/sdc/owen/code/HydroMTL/hydromtl/utils/hydro_stat.py:391: RuntimeWarning: divide by zero encountered in double_scalars\n",
      "  PBias[k] = np.sum(xx - yy) / np.sum(yy) * 100\n",
      "/mnt/data/owen411/program/miniconda3/envs/MTL/lib/python3.10/site-packages/scipy/stats/_stats_py.py:4424: ConstantInputWarning: An input array is constant; the correlation coefficient is not defined.\n",
      "  warnings.warn(stats.ConstantInputWarning(msg))\n",
      "/mnt/sdc/owen/code/HydroMTL/hydromtl/utils/hydro_stat.py:399: RuntimeWarning: divide by zero encountered in double_scalars\n",
      "  R2[k] = 1 - SSRes / SST\n",
      "/mnt/sdc/owen/code/HydroMTL/hydromtl/utils/hydro_stat.py:400: RuntimeWarning: divide by zero encountered in double_scalars\n",
      "  NSE[k] = 1 - SSRes / SST\n",
      "/mnt/data/owen411/program/miniconda3/envs/MTL/lib/python3.10/site-packages/numpy/lib/function_base.py:2853: RuntimeWarning: invalid value encountered in divide\n",
      "  c /= stddev[:, None]\n",
      "/mnt/data/owen411/program/miniconda3/envs/MTL/lib/python3.10/site-packages/numpy/lib/function_base.py:2854: RuntimeWarning: invalid value encountered in divide\n",
      "  c /= stddev[None, :]\n",
      "/mnt/sdc/owen/code/HydroMTL/hydromtl/utils/hydro_stat.py:200: RuntimeWarning: divide by zero encountered in double_scalars\n",
      "  alpha = np.std(xs) / np.std(xo)\n",
      "/mnt/sdc/owen/code/HydroMTL/hydromtl/utils/hydro_stat.py:201: RuntimeWarning: divide by zero encountered in double_scalars\n",
      "  beta = np.mean(xs) / np.mean(xo)\n",
      "/mnt/sdc/owen/code/HydroMTL/hydromtl/utils/hydro_stat.py:415: RuntimeWarning: divide by zero encountered in double_scalars\n",
      "  PBiashigh[k] = np.sum(highpred - hightarget) / np.sum(hightarget) * 100\n"
     ]
    }
   ],
   "source": [
    "\n",
    "\n",
    "(\n",
    "    exps_ssm_results_wo_pre,\n",
    "    preds_ssm_wo_pre,\n",
    "    obss_ssm_wo_pre,\n",
    ") = read_multi_single_exps_results(\n",
    "    exps_smtl_wo_pretrain,\n",
    "    var_idx=1,\n",
    "    ensemble=-1,\n",
    "    return_value=True,\n",
    "    var_names=[hydro_constant.streamflow.name, hydro_constant.surface_soil_moisture.name],\n",
    "    var_units=[\"ft3/s\", \"mm/day\"],\n",
    ")\n"
   ]
  },
  {
   "cell_type": "code",
   "execution_count": 9,
   "metadata": {},
   "outputs": [
    {
     "data": {
      "text/plain": [
       "-0.2535357148077777"
      ]
     },
     "execution_count": 9,
     "metadata": {},
     "output_type": "execute_result"
    }
   ],
   "source": [
    "(\n",
    "    exps_ssm_results_pre,\n",
    "    preds_ssm_pre,\n",
    "    obss_ssm_pre,\n",
    ") = read_multi_single_exps_results(\n",
    "    exps_smtl_pretrain,\n",
    "    var_idx=1,\n",
    "    single_is_flow=False,\n",
    "    flow_idx_in_mtl=0,\n",
    "    ensemble=-1,\n",
    "    return_value=True,\n",
    "    et_unit=\"mm/day\",\n",
    ")\n"
   ]
  },
  {
   "attachments": {},
   "cell_type": "markdown",
   "metadata": {},
   "source": [
    "After reading results, we can plot for the results."
   ]
  }
 ],
 "metadata": {
  "kernelspec": {
   "display_name": "MTL",
   "language": "python",
   "name": "mtl"
  },
  "language_info": {
   "codemirror_mode": {
    "name": "ipython",
    "version": 3
   },
   "file_extension": ".py",
   "mimetype": "text/x-python",
   "name": "python",
   "nbconvert_exporter": "python",
   "pygments_lexer": "ipython3",
   "version": "3.10.10"
  },
  "vscode": {
   "interpreter": {
    "hash": "9815283c644bbf3d1d2752d23b412bb7b0c2a9fbb18150c86e2061f8a16f47ce"
   }
  }
 },
 "nbformat": 4,
 "nbformat_minor": 4
}
