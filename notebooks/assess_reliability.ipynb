{
 "cells": [
  {
   "attachments": {},
   "cell_type": "markdown",
   "metadata": {},
   "source": [
    "# Use probe to evaluate model reliability\n",
    "\n",
    "Probe can be used to analyze what a DL model has learned.\n",
    "\n",
    "**NOTE: The first time you run this notebook, it takes dozens of minutes as it will calculate the cell states and train the probes.**\n",
    "\n",
    "Then, we will save the results and next time you run this notebook, it will load the results from the saved files."
   ]
  },
  {
   "cell_type": "code",
   "execution_count": null,
   "metadata": {},
   "outputs": [],
   "source": [
    "import os\n",
    "import sys\n",
    "\n",
    "\n",
    "# Get the current directory of the notebook\n",
    "notebook_dir = os.path.abspath('')\n",
    "# Get the parent directory of the notebook directory\n",
    "project_dir = os.path.dirname(notebook_dir)\n",
    "# import the module using a relative path\n",
    "sys.path.append(project_dir)\n",
    "import definitions\n",
    "from hydromtl.data.source import data_constant\n",
    "from hydromtl.explain.probe_analysis import show_probe"
   ]
  },
  {
   "cell_type": "code",
   "execution_count": null,
   "metadata": {},
   "outputs": [],
   "source": [
    "save_dir = os.path.join(\n",
    "    definitions.RESULT_DIR,\n",
    "    \"figures\",\n",
    ")\n",
    "if not os.path.exists(save_dir):\n",
    "    os.makedirs(save_dir)\n",
    "run_exp_lst = [\n",
    "    f\"camels{os.sep}expstlq0010\",\n",
    "    f\"camels{os.sep}expmtl0030\",\n",
    "    f\"camels{os.sep}expstlet0010\",\n",
    "]\n",
    "legend_lst = [\"STL-Q\", \"MTL\", \"STL-ET\"]"
   ]
  },
  {
   "attachments": {},
   "cell_type": "markdown",
   "metadata": {},
   "source": [
    "First probe is for evapotranspiration (ET)."
   ]
  },
  {
   "cell_type": "code",
   "execution_count": null,
   "metadata": {},
   "outputs": [],
   "source": [
    "show_probe(\n",
    "    run_exp_lst=run_exp_lst,\n",
    "    var=data_constant.evapotranspiration_modis_camels_us,\n",
    "    legend_lst=legend_lst,\n",
    "    show_probe_metric=\"Corr\",\n",
    "    retrian_probe=[False, False, False],\n",
    "    num_workers=0,\n",
    "    save_dir=save_dir,\n",
    ")"
   ]
  },
  {
   "attachments": {},
   "cell_type": "markdown",
   "metadata": {},
   "source": [
    "The second probe is for streamflow (Q)."
   ]
  },
  {
   "cell_type": "code",
   "execution_count": null,
   "metadata": {},
   "outputs": [],
   "source": [
    "show_probe(\n",
    "    run_exp_lst=run_exp_lst,\n",
    "    var=data_constant.streamflow_camels_us,\n",
    "    legend_lst=legend_lst,\n",
    "    show_probe_metric=\"Corr\",\n",
    "    retrian_probe=[False, False, False],\n",
    "    num_workers=0,\n",
    "    save_dir=save_dir,\n",
    ")"
   ]
  },
  {
   "attachments": {},
   "cell_type": "markdown",
   "metadata": {},
   "source": [
    "The final probe is for soil moisture (SM)."
   ]
  },
  {
   "cell_type": "code",
   "execution_count": null,
   "metadata": {},
   "outputs": [],
   "source": [
    "show_probe(\n",
    "    run_exp_lst=run_exp_lst,\n",
    "    var=data_constant.surface_soil_moisture_smap_camels_us,\n",
    "    legend_lst=legend_lst,\n",
    "    show_probe_metric=\"Corr\",\n",
    "    retrian_probe=[False, False, False],\n",
    "    num_workers=0,\n",
    "    save_dir=save_dir,\n",
    ")"
   ]
  }
 ],
 "metadata": {
  "kernelspec": {
   "display_name": "MTL",
   "language": "python",
   "name": "mtl"
  },
  "language_info": {
   "codemirror_mode": {
    "name": "ipython",
    "version": 3
   },
   "file_extension": ".py",
   "mimetype": "text/x-python",
   "name": "python",
   "nbconvert_exporter": "python",
   "pygments_lexer": "ipython3",
   "version": "3.10.14"
  },
  "orig_nbformat": 4
 },
 "nbformat": 4,
 "nbformat_minor": 2
}
